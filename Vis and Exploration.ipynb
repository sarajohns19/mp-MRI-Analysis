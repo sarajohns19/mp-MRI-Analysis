{
 "cells": [
  {
   "cell_type": "markdown",
   "metadata": {},
   "source": [
    "## Jupyter Notebook for Data Vis and Exploration"
   ]
  },
  {
   "cell_type": "code",
   "execution_count": 1,
   "metadata": {},
   "outputs": [],
   "source": [
    "import scipy.io \n",
    "import os\n",
    "import numpy as np\n",
    "import pandas as pd"
   ]
  },
  {
   "cell_type": "markdown",
   "metadata": {},
   "source": [
    "#### Loading .mat data for one rabbit\n",
    "1. Loading multi-parametric data into dataframe"
   ]
  },
  {
   "cell_type": "code",
   "execution_count": 20,
   "metadata": {},
   "outputs": [
    {
     "name": "stdout",
     "output_type": "stream",
     "text": [
      "    CTD_Map    MTP_Map  Post_ADCMap  Post_T1Map    Post_T1w  Post_T2Map  \\\n",
      "0  0.007767  39.867596  2524.004639      3068.0  173.793387       409.5   \n",
      "1  0.005658  39.593403  2541.000244      3077.0  166.113100       409.5   \n",
      "2  0.002975  39.426872  2512.001221      3140.0  170.768320       409.5   \n",
      "3  0.002764  39.416546  2522.000244      3042.0  174.975658       409.5   \n",
      "4  0.003721  39.771465  2930.997559      3025.0  164.624358       409.5   \n",
      "\n",
      "     Post_T2w  Pre_ADCMap  Pre_T1Map  Pre_T1w  Pre_T2Map  Pre_T2w    anID  \n",
      "0  382.886522         NaN        NaN      NaN        NaN      NaN  18_044  \n",
      "1  397.828145         NaN        NaN      NaN        NaN      NaN  18_044  \n",
      "2  408.997083         NaN        NaN      NaN        NaN      NaN  18_044  \n",
      "3  429.948499         NaN        NaN      NaN        NaN      NaN  18_044  \n",
      "4  432.650843         NaN        NaN      NaN        NaN      NaN  18_044  \n",
      "(175104, 13)\n",
      "RangeIndex(start=0, stop=175104, step=1)\n"
     ]
    }
   ],
   "source": [
    "anID = '18_044'\n",
    "# Get the Multi-parametric data for 18_044\n",
    "data_path = 'MATLAB_Output_DataSets/18_044/Param_maps/'\n",
    "\n",
    "# Get the list of .mat files from the animal path \n",
    "file_list = [f for f in os.listdir(data_path) if os.path.isfile(os.path.join(data_path, f))]\n",
    "file_list = np.asarray(file_list)\n",
    "\n",
    "\n",
    "# Initialize import_array with first file in file_list\n",
    "fname = file_list[0]\n",
    "mat = scipy.io.loadmat(data_path + fname)\n",
    "datarray = mat['paramImg']\n",
    "sz = datarray.shape\n",
    "datvec = datarray.reshape((sz[0]*sz[1]*sz[2],1))\n",
    "import_array = datvec\n",
    "colNames = fname[0:-4]\n",
    "\n",
    "#define the remaining files in file-listn\n",
    "file_listn = file_list[1:]  \n",
    "\n",
    "# Loop through files, load data, reshape into an array and append to \"import_array\"\n",
    "for f in file_listn:\n",
    "    mat = scipy.io.loadmat(data_path + f)\n",
    "    datarray = mat['paramImg']\n",
    "    sz = datarray.shape\n",
    "    datvec = datarray.reshape((sz[0]*sz[1]*sz[2],1))\n",
    "    import_array = np.concatenate([import_array,datvec],axis=1)\n",
    "    colName = f[0:-4]\n",
    "    colNames = np.append(colNames,colName)\n",
    "\n",
    "# Create the dataframe\n",
    "df044 = pd.DataFrame(data=import_array, columns=colNames)\n",
    "df044['anID'] = anID\n",
    "print(df044.head())\n",
    "print(df044.shape)\n",
    "print(df044.index)\n",
    "    "
   ]
  },
  {
   "cell_type": "markdown",
   "metadata": {},
   "source": [
    "2. Loading each case of labels and corresponding ROIs \n",
    "    "
   ]
  },
  {
   "cell_type": "code",
   "execution_count": 3,
   "metadata": {},
   "outputs": [],
   "source": [
    "# functions for generating categorical segmentation of each index \n",
    "\n",
    "def getSegmentations(df):\n",
    "    # Segmentation 1+ \"Viable\" and \"Non-viable\" only \n",
    "    def segmentmethod1(row):\n",
    "        if row['allV'] == 1:\n",
    "            return 'allV'\n",
    "        if row['nonV'] == 1: \n",
    "            return 'nonV'\n",
    "\n",
    "    Seg1 = df.apply(segmentmethod1,axis=1)\n",
    "    #df['Seg1'] = df.apply(segmentmethod1,axis=1)\n",
    "    print('Number of voxels in Seg1:')\n",
    "    print(Seg1.value_counts())\n",
    "\n",
    "    # Segmentation 2: \"Non-viable\", \"Viable Boundary\",\"Viable Muscle\"\n",
    "    def segmentmethod2(row):\n",
    "        if row['nonV'] == 1:\n",
    "            return 'nonV'\n",
    "        if row['bndV'] == 1:\n",
    "            return 'bndV'\n",
    "        if row['mucV'] == 1:\n",
    "            return 'mucV'\n",
    "\n",
    "    Seg2 = df.apply(segmentmethod2,axis=1)\n",
    "    print('Numer of voxels in Seg2:')\n",
    "    print(Seg2.value_counts())\n",
    "    \n",
    "    print('Size of Seg1 is:')\n",
    "    print(Seg1.shape)\n",
    "    print('Size of Seg2 is:')\n",
    "    print(Seg2.shape)\n",
    "           \n",
    "    return Seg1,Seg2"
   ]
  },
  {
   "cell_type": "code",
   "execution_count": 21,
   "metadata": {
    "scrolled": false
   },
   "outputs": [
    {
     "name": "stdout",
     "output_type": "stream",
     "text": [
      "    CTD_Map    MTP_Map  Post_ADCMap  Post_T1Map    Post_T1w  Post_T2Map  \\\n",
      "0  0.007767  39.867596  2524.004639      3068.0  173.793387       409.5   \n",
      "1  0.005658  39.593403  2541.000244      3077.0  166.113100       409.5   \n",
      "2  0.002975  39.426872  2512.001221      3140.0  170.768320       409.5   \n",
      "3  0.002764  39.416546  2522.000244      3042.0  174.975658       409.5   \n",
      "4  0.003721  39.771465  2930.997559      3025.0  164.624358       409.5   \n",
      "\n",
      "     Post_T2w  Pre_ADCMap  Pre_T1Map  Pre_T1w  Pre_T2Map  Pre_T2w    anID  \\\n",
      "0  382.886522         NaN        NaN      NaN        NaN      NaN  18_044   \n",
      "1  397.828145         NaN        NaN      NaN        NaN      NaN  18_044   \n",
      "2  408.997083         NaN        NaN      NaN        NaN      NaN  18_044   \n",
      "3  429.948499         NaN        NaN      NaN        NaN      NaN  18_044   \n",
      "4  432.650843         NaN        NaN      NaN        NaN      NaN  18_044   \n",
      "\n",
      "   Seg1_Grp_HighRes  Seg2_Grp_HighRes  \n",
      "0               NaN               NaN  \n",
      "1               NaN               NaN  \n",
      "2               NaN               NaN  \n",
      "3               NaN               NaN  \n",
      "4               NaN               NaN  \n"
     ]
    }
   ],
   "source": [
    "anID = '18_044'\n",
    "# Get the Multi-parametric data for 18_044\n",
    "data_path = 'MATLAB_Output_DataSets/18_044/Param_maps/ROI_masks/'\n",
    "\n",
    "# Get the list of .mat files from the animal path \n",
    "file_list = [f for f in os.listdir(data_path) if os.path.isfile(os.path.join(data_path, f))]\n",
    "file_list = np.asarray(file_list)\n",
    "ii = [i for i,item in enumerate(file_list) if \"Res\" in item]\n",
    "files = file_list[ii]\n",
    "#dfOut = pd.DataFrame(index=df044.index.copy())\n",
    "#for f in files:\n",
    "f = files[0]\n",
    "colName = f[10:-4]\n",
    "mat = scipy.io.loadmat(data_path + f)\n",
    "allV = mat['ROIviaA']  #all viable tissue in muscle and tumor\n",
    "nonV = mat['ROInpv']   # all non-perfused/non-viable tissue\n",
    "bndV = mat['ROIbnd']   # viable voxels that surround non-perfused volume (mostly enhancing)\n",
    "mucV = mat['ROIviaB']  # viable voxels that exclude bndV (mostly healthy mucsle)\n",
    "\n",
    "# reshape into vectors \n",
    "sz = allV.shape\n",
    "allV = allV.reshape((sz[0]*sz[1]*sz[2]))\n",
    "nonV = nonV.reshape((sz[0]*sz[1]*sz[2]))\n",
    "bndV = bndV.reshape((sz[0]*sz[1]*sz[2]))\n",
    "mucV = mucV.reshape((sz[0]*sz[1]*sz[2]))\n",
    "\n",
    "df = pd.DataFrame({'allV': allV,'nonV': nonV,'bndV':bndV,'mucV':mucV},index = df044.index)\n",
    "    \n",
    "colNames = ['Seg1_' + colName, 'Seg2_' + colName]\n",
    "\n",
    "df044.loc[:,colNames[0]] = pd.DataFrame(Seg1,index=df044.index)\n",
    "df044.loc[:,colNames[1]] = pd.DataFrame(Seg2,index=df044.index)\n",
    "print(df044.head())\n",
    "\n"
   ]
  },
  {
   "cell_type": "code",
   "execution_count": 19,
   "metadata": {},
   "outputs": [
    {
     "name": "stdout",
     "output_type": "stream",
     "text": [
      "<class 'str'>\n",
      "    CTD_Map    MTP_Map  Post_ADCMap  Post_T1Map    Post_T1w  Post_T2Map  \\\n",
      "0  0.007767  39.867596  2524.004639      3068.0  173.793387       409.5   \n",
      "1  0.005658  39.593403  2541.000244      3077.0  166.113100       409.5   \n",
      "2  0.002975  39.426872  2512.001221      3140.0  170.768320       409.5   \n",
      "3  0.002764  39.416546  2522.000244      3042.0  174.975658       409.5   \n",
      "4  0.003721  39.771465  2930.997559      3025.0  164.624358       409.5   \n",
      "\n",
      "     Post_T2w  Pre_ADCMap  Pre_T1Map  Pre_T1w  Pre_T2Map  Pre_T2w    anID  \\\n",
      "0  382.886522         NaN        NaN      NaN        NaN      NaN  18_044   \n",
      "1  397.828145         NaN        NaN      NaN        NaN      NaN  18_044   \n",
      "2  408.997083         NaN        NaN      NaN        NaN      NaN  18_044   \n",
      "3  429.948499         NaN        NaN      NaN        NaN      NaN  18_044   \n",
      "4  432.650843         NaN        NaN      NaN        NaN      NaN  18_044   \n",
      "\n",
      "   Seg1_Grp_HighRes  Seg2_Grp_HighRes  \n",
      "0               NaN               NaN  \n",
      "1               NaN               NaN  \n",
      "2               NaN               NaN  \n",
      "3               NaN               NaN  \n",
      "4               NaN               NaN  \n"
     ]
    }
   ],
   "source": []
  },
  {
   "cell_type": "code",
   "execution_count": null,
   "metadata": {},
   "outputs": [],
   "source": []
  }
 ],
 "metadata": {
  "kernelspec": {
   "display_name": "Python 3",
   "language": "python",
   "name": "python3"
  },
  "language_info": {
   "codemirror_mode": {
    "name": "ipython",
    "version": 3
   },
   "file_extension": ".py",
   "mimetype": "text/x-python",
   "name": "python",
   "nbconvert_exporter": "python",
   "pygments_lexer": "ipython3",
   "version": "3.6.3"
  }
 },
 "nbformat": 4,
 "nbformat_minor": 2
}
